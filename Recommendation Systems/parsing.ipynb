{
  "nbformat": 4,
  "nbformat_minor": 0,
  "metadata": {
    "colab": {
      "name": "Task_5.ipynb",
      "provenance": [],
      "collapsed_sections": []
    },
    "kernelspec": {
      "name": "python3",
      "display_name": "Python 3"
    },
    "language_info": {
      "name": "python"
    }
  },
  "cells": [
    {
      "cell_type": "markdown",
      "source": [
        "# Парсинг"
      ],
      "metadata": {
        "id": "5VIBGDN26DMq"
      }
    },
    {
      "cell_type": "markdown",
      "source": [
        "Импорт"
      ],
      "metadata": {
        "id": "fPJ57grl6Fmw"
      }
    },
    {
      "cell_type": "code",
      "execution_count": null,
      "metadata": {
        "id": "_cJRfTkMEo6_"
      },
      "outputs": [],
      "source": [
        "import requests\n",
        "from bs4 import BeautifulSoup"
      ]
    },
    {
      "cell_type": "markdown",
      "source": [
        "Получение данных"
      ],
      "metadata": {
        "id": "FKDhrehe6J3v"
      }
    },
    {
      "cell_type": "code",
      "source": [
        "def get_data(url, filename):\n",
        "  headers = {\n",
        "      \"user-agent\": \"Mozilla/5.0 (Macintosh; Intel Mac OS X 12_1) AppleWebKit/537.36 (KHTML, like Gecko) Chrome/96.0.4664.110 Safari/537.36\"\n",
        "  }\n",
        "\n",
        "  req = requests.get(url, headers)\n",
        "\n",
        "  with open(f\"{filename}.html\", \"w\") as file:\n",
        "    file.write(req.text)\n",
        " \n",
        "\n",
        "headers = {\n",
        "      \"user-agent\": \"Mozilla/5.0 (Macintosh; Intel Mac OS X 12_1) AppleWebKit/537.36 (KHTML, like Gecko) Chrome/96.0.4664.110 Safari/537.36\"\n",
        "}\n",
        "\n",
        "count = 10\n",
        "for i in range(1, count+1):\n",
        "  print(i)\n",
        "  get_data(\"https://memepedia.ru/memoteka/page/\"+str(i)+'/', \"index\"+ str(i))"
      ],
      "metadata": {
        "colab": {
          "base_uri": "https://localhost:8080/"
        },
        "id": "mijIyfBpEplk",
        "outputId": "e43ee2df-a350-4436-ad1d-cf7c636d3c11"
      },
      "execution_count": null,
      "outputs": [
        {
          "output_type": "stream",
          "name": "stdout",
          "text": [
            "1\n",
            "2\n",
            "3\n",
            "4\n",
            "5\n",
            "6\n",
            "7\n",
            "8\n",
            "9\n",
            "10\n"
          ]
        }
      ]
    },
    {
      "cell_type": "markdown",
      "source": [
        "Получение всех ссылок"
      ],
      "metadata": {
        "id": "0_TzVCy_6Mhl"
      }
    },
    {
      "cell_type": "code",
      "source": [
        "def get_links(url, filename):\n",
        "  with open(filename) as file:\n",
        "    src = file.read()\n",
        "  \n",
        "  soup = BeautifulSoup(src, \"lxml\")\n",
        "  lis = soup.find(\"div\", class_ = \"bb-col col-content\").find_all(\"div\", class_=\"post-thumbnail\")\n",
        "\n",
        "  project_urls = []\n",
        "\n",
        "  for li in lis:\n",
        "    for a in li.find_all(\"a\"):\n",
        "      project_urls.append(a.get(\"href\"))\n",
        "  \n",
        "  for project_url in project_urls:\n",
        "    req = requests.get(project_url, headers)\n",
        "  \n",
        "  return project_urls\n",
        " \n",
        "all_articles = []\n",
        "for i in range(1, count + 1):\n",
        "  print(i)\n",
        "  all_articles.append(get_links(\"https://memepedia.ru/memoteka/page/\"+str(i)+'/', \"index\"+ str(i)+\".html\"))"
      ],
      "metadata": {
        "colab": {
          "base_uri": "https://localhost:8080/"
        },
        "id": "-6MmKoRpErsF",
        "outputId": "edee8e03-ba00-4372-e2b1-13c35f95aa53"
      },
      "execution_count": null,
      "outputs": [
        {
          "output_type": "stream",
          "name": "stdout",
          "text": [
            "1\n",
            "2\n",
            "3\n",
            "4\n",
            "5\n",
            "6\n",
            "7\n",
            "8\n",
            "9\n",
            "10\n"
          ]
        }
      ]
    },
    {
      "cell_type": "markdown",
      "source": [
        "Создание папки для хранения страниц"
      ],
      "metadata": {
        "id": "qlMWgFjb6PPs"
      }
    },
    {
      "cell_type": "code",
      "source": [
        "!mkdir data"
      ],
      "metadata": {
        "id": "ZGYJZjL4IVRH"
      },
      "execution_count": null,
      "outputs": []
    },
    {
      "cell_type": "markdown",
      "source": [
        "Получение информации с сайтов"
      ],
      "metadata": {
        "id": "PXFgpWo06Sps"
      }
    },
    {
      "cell_type": "code",
      "source": [
        "def get_info(all_articles, folder_name):\n",
        "  par_names = []\n",
        "  par_categories = []\n",
        "  par_dates = []\n",
        "  par_watches = []\n",
        "  \n",
        "  for project_url in all_articles:\n",
        "    req = requests.get(project_url, headers)\n",
        "    project_name = project_url.split(\"/\")[-2]\n",
        "\n",
        "    with open(f\"{folder_name}/{project_name}.html\", \"w\") as file:\n",
        "      file.write(req.text)\n",
        "    \n",
        "    with open(f\"{folder_name}/{project_name}.html\") as file:\n",
        "      src = file.read()\n",
        "    \n",
        "    try:\n",
        "      soup = BeautifulSoup(src, \"lxml\")\n",
        "      par_name = soup.body.h1.find_next(string=True)\n",
        "\n",
        "      spans = soup.select('li.ordinal-item span')\n",
        "      spans = [span.text for span in spans]\n",
        "      par_category = spans[1]\n",
        "\n",
        "      var = soup.find(\"div\", class_=\"s-post-meta-block bb-mb-el\")\n",
        "      par_date = var.find('time')['datetime']\n",
        "\n",
        "      par_watch = soup.find(\"div\", class_=\"s-post-meta bb-post-meta size-lg\").find(\"span\", class_=\"count\").text\n",
        "\n",
        "      par_names.append(par_name)\n",
        "      par_categories.append(par_category)\n",
        "      par_dates.append(par_date)\n",
        "      par_watches.append(par_watch)\n",
        "    except:\n",
        "      print(\"Problem with page: \" + str(project_name))\n",
        "      pass\n",
        "  return par_names, par_categories, par_dates, par_watches\n",
        "\n",
        "res = []\n",
        "for i in range(len(all_articles)):\n",
        "  print(i)\n",
        "  res.append(get_info(all_articles[i], \"data\"))"
      ],
      "metadata": {
        "colab": {
          "base_uri": "https://localhost:8080/"
        },
        "id": "DOtKaFJ2FLY-",
        "outputId": "e36376ee-48e5-413d-9297-f8244fee42fe"
      },
      "execution_count": null,
      "outputs": [
        {
          "output_type": "stream",
          "name": "stdout",
          "text": [
            "0\n",
            "1\n",
            "2\n",
            "3\n",
            "4\n",
            "Problem with page: oguzok\n",
            "5\n",
            "6\n",
            "Problem with page: antishapochniki\n",
            "7\n",
            "Problem with page: baza\n",
            "Problem with page: kizyaka\n",
            "8\n",
            "9\n",
            "Problem with page: vosxishhajsya-estetikoj\n",
            "Problem with page: kokichi-2020\n"
          ]
        }
      ]
    },
    {
      "cell_type": "code",
      "source": [
        "import numpy as np\n",
        "\n",
        "par_names = []\n",
        "par_categories = []\n",
        "par_dates = []\n",
        "par_watches = []\n",
        "\n",
        "for i in range(len(res)):\n",
        "  for j in range(len(res[i][0])):\n",
        "    par_names.append(res[i][0][j])\n",
        "  \n",
        "  for k in range(len(res[i][1])):\n",
        "    par_categories.append(res[i][1][k])\n",
        "  \n",
        "  for l in range(len(res[i][2])):\n",
        "    par_dates.append(res[i][2][l])\n",
        "  \n",
        "  for m in range(len(res[i][3])):\n",
        "    par_watches.append(res[i][3][m])\n",
        "\n",
        "with open('data.csv', 'a') as file:\n",
        "    for i in range(len(par_names)):\n",
        "      if i - 1 < len(par_names):\n",
        "        file.write(str(par_names[i]) + ';' + str(par_categories[i]) + ';' + str(par_dates[i]) + ';' + str(par_watches[i]) + '\\n')"
      ],
      "metadata": {
        "id": "kL8OAa4AIfDX"
      },
      "execution_count": null,
      "outputs": []
    },
    {
      "cell_type": "code",
      "source": [
        "from google.colab import files\n",
        "\n",
        "files.download('data.csv')"
      ],
      "metadata": {
        "colab": {
          "base_uri": "https://localhost:8080/",
          "height": 17
        },
        "id": "4tu3LaQUV4i_",
        "outputId": "0c8a552f-6677-4037-f0b7-f5b699e2d906"
      },
      "execution_count": null,
      "outputs": [
        {
          "output_type": "display_data",
          "data": {
            "application/javascript": [
              "\n",
              "    async function download(id, filename, size) {\n",
              "      if (!google.colab.kernel.accessAllowed) {\n",
              "        return;\n",
              "      }\n",
              "      const div = document.createElement('div');\n",
              "      const label = document.createElement('label');\n",
              "      label.textContent = `Downloading \"${filename}\": `;\n",
              "      div.appendChild(label);\n",
              "      const progress = document.createElement('progress');\n",
              "      progress.max = size;\n",
              "      div.appendChild(progress);\n",
              "      document.body.appendChild(div);\n",
              "\n",
              "      const buffers = [];\n",
              "      let downloaded = 0;\n",
              "\n",
              "      const channel = await google.colab.kernel.comms.open(id);\n",
              "      // Send a message to notify the kernel that we're ready.\n",
              "      channel.send({})\n",
              "\n",
              "      for await (const message of channel.messages) {\n",
              "        // Send a message to notify the kernel that we're ready.\n",
              "        channel.send({})\n",
              "        if (message.buffers) {\n",
              "          for (const buffer of message.buffers) {\n",
              "            buffers.push(buffer);\n",
              "            downloaded += buffer.byteLength;\n",
              "            progress.value = downloaded;\n",
              "          }\n",
              "        }\n",
              "      }\n",
              "      const blob = new Blob(buffers, {type: 'application/binary'});\n",
              "      const a = document.createElement('a');\n",
              "      a.href = window.URL.createObjectURL(blob);\n",
              "      a.download = filename;\n",
              "      div.appendChild(a);\n",
              "      a.click();\n",
              "      div.remove();\n",
              "    }\n",
              "  "
            ],
            "text/plain": [
              "<IPython.core.display.Javascript object>"
            ]
          },
          "metadata": {}
        },
        {
          "output_type": "display_data",
          "data": {
            "application/javascript": [
              "download(\"download_1ae56972-56a8-4518-8131-f77745e4c487\", \"data.csv\", 14206)"
            ],
            "text/plain": [
              "<IPython.core.display.Javascript object>"
            ]
          },
          "metadata": {}
        }
      ]
    },
    {
      "cell_type": "markdown",
      "source": [
        "# Аналитика"
      ],
      "metadata": {
        "id": "iABgCPFQjGJ4"
      }
    },
    {
      "cell_type": "code",
      "source": [
        "import pandas as pd\n",
        "\n",
        "df = pd. read_csv(\"data.csv\", sep=\";\", names = [\"names\", \"categories\", \"dates\", \"watches\"])"
      ],
      "metadata": {
        "id": "bscAQ8BNWHMv"
      },
      "execution_count": null,
      "outputs": []
    },
    {
      "cell_type": "code",
      "source": [
        "df"
      ],
      "metadata": {
        "colab": {
          "base_uri": "https://localhost:8080/",
          "height": 423
        },
        "id": "uzryFJy51L9t",
        "outputId": "0e59a73c-053a-4b09-a508-c1742cf4d514"
      },
      "execution_count": null,
      "outputs": [
        {
          "output_type": "execute_result",
          "data": {
            "text/html": [
              "\n",
              "  <div id=\"df-123af82f-d080-4b43-ab62-44a6ea3e3c44\">\n",
              "    <div class=\"colab-df-container\">\n",
              "      <div>\n",
              "<style scoped>\n",
              "    .dataframe tbody tr th:only-of-type {\n",
              "        vertical-align: middle;\n",
              "    }\n",
              "\n",
              "    .dataframe tbody tr th {\n",
              "        vertical-align: top;\n",
              "    }\n",
              "\n",
              "    .dataframe thead th {\n",
              "        text-align: right;\n",
              "    }\n",
              "</style>\n",
              "<table border=\"1\" class=\"dataframe\">\n",
              "  <thead>\n",
              "    <tr style=\"text-align: right;\">\n",
              "      <th></th>\n",
              "      <th>names</th>\n",
              "      <th>categories</th>\n",
              "      <th>dates</th>\n",
              "      <th>watches</th>\n",
              "    </tr>\n",
              "  </thead>\n",
              "  <tbody>\n",
              "    <tr>\n",
              "      <th>0</th>\n",
              "      <td>Волшебник смотрит на шар</td>\n",
              "      <td>Пикча</td>\n",
              "      <td>2021-12-16T12:30:39+00:00</td>\n",
              "      <td>194</td>\n",
              "    </tr>\n",
              "    <tr>\n",
              "      <th>1</th>\n",
              "      <td>Насколько же ты отчаялся</td>\n",
              "      <td>Пикча</td>\n",
              "      <td>2021-12-15T14:51:29+00:00</td>\n",
              "      <td>126</td>\n",
              "    </tr>\n",
              "    <tr>\n",
              "      <th>2</th>\n",
              "      <td>Иван Золо 2004</td>\n",
              "      <td>Персоны</td>\n",
              "      <td>2021-12-14T11:16:39+00:00</td>\n",
              "      <td>9.3k</td>\n",
              "    </tr>\n",
              "    <tr>\n",
              "      <th>3</th>\n",
              "      <td>Чел хорош, мегахорош, неплох</td>\n",
              "      <td>Видео</td>\n",
              "      <td>2021-12-12T12:36:10+00:00</td>\n",
              "      <td>1.7k</td>\n",
              "    </tr>\n",
              "    <tr>\n",
              "      <th>4</th>\n",
              "      <td>Нового года не будет</td>\n",
              "      <td>Видео</td>\n",
              "      <td>2021-12-10T11:41:43+00:00</td>\n",
              "      <td>1.9k</td>\n",
              "    </tr>\n",
              "    <tr>\n",
              "      <th>...</th>\n",
              "      <td>...</td>\n",
              "      <td>...</td>\n",
              "      <td>...</td>\n",
              "      <td>...</td>\n",
              "    </tr>\n",
              "    <tr>\n",
              "      <th>169</th>\n",
              "      <td>Бонк</td>\n",
              "      <td>Пикча</td>\n",
              "      <td>2021-02-18T11:52:52+00:00</td>\n",
              "      <td>12.7k</td>\n",
              "    </tr>\n",
              "    <tr>\n",
              "      <th>170</th>\n",
              "      <td>Повезло повезло</td>\n",
              "      <td>Видео</td>\n",
              "      <td>2021-02-18T00:10:17+00:00</td>\n",
              "      <td>61.7k</td>\n",
              "    </tr>\n",
              "    <tr>\n",
              "      <th>171</th>\n",
              "      <td>Годзилла и Конг против Чимса</td>\n",
              "      <td>Пикча</td>\n",
              "      <td>2021-02-17T23:33:40+00:00</td>\n",
              "      <td>9.4k</td>\n",
              "    </tr>\n",
              "    <tr>\n",
              "      <th>172</th>\n",
              "      <td>Отче наш иже еси на небеси</td>\n",
              "      <td>Пикча</td>\n",
              "      <td>2021-02-16T11:48:50+00:00</td>\n",
              "      <td>5.4k</td>\n",
              "    </tr>\n",
              "    <tr>\n",
              "      <th>173</th>\n",
              "      <td>We Live In a Society (Мы живем в обществе)</td>\n",
              "      <td>Тренды</td>\n",
              "      <td>2021-02-15T12:11:44+00:00</td>\n",
              "      <td>3.3k</td>\n",
              "    </tr>\n",
              "  </tbody>\n",
              "</table>\n",
              "<p>174 rows × 4 columns</p>\n",
              "</div>\n",
              "      <button class=\"colab-df-convert\" onclick=\"convertToInteractive('df-123af82f-d080-4b43-ab62-44a6ea3e3c44')\"\n",
              "              title=\"Convert this dataframe to an interactive table.\"\n",
              "              style=\"display:none;\">\n",
              "        \n",
              "  <svg xmlns=\"http://www.w3.org/2000/svg\" height=\"24px\"viewBox=\"0 0 24 24\"\n",
              "       width=\"24px\">\n",
              "    <path d=\"M0 0h24v24H0V0z\" fill=\"none\"/>\n",
              "    <path d=\"M18.56 5.44l.94 2.06.94-2.06 2.06-.94-2.06-.94-.94-2.06-.94 2.06-2.06.94zm-11 1L8.5 8.5l.94-2.06 2.06-.94-2.06-.94L8.5 2.5l-.94 2.06-2.06.94zm10 10l.94 2.06.94-2.06 2.06-.94-2.06-.94-.94-2.06-.94 2.06-2.06.94z\"/><path d=\"M17.41 7.96l-1.37-1.37c-.4-.4-.92-.59-1.43-.59-.52 0-1.04.2-1.43.59L10.3 9.45l-7.72 7.72c-.78.78-.78 2.05 0 2.83L4 21.41c.39.39.9.59 1.41.59.51 0 1.02-.2 1.41-.59l7.78-7.78 2.81-2.81c.8-.78.8-2.07 0-2.86zM5.41 20L4 18.59l7.72-7.72 1.47 1.35L5.41 20z\"/>\n",
              "  </svg>\n",
              "      </button>\n",
              "      \n",
              "  <style>\n",
              "    .colab-df-container {\n",
              "      display:flex;\n",
              "      flex-wrap:wrap;\n",
              "      gap: 12px;\n",
              "    }\n",
              "\n",
              "    .colab-df-convert {\n",
              "      background-color: #E8F0FE;\n",
              "      border: none;\n",
              "      border-radius: 50%;\n",
              "      cursor: pointer;\n",
              "      display: none;\n",
              "      fill: #1967D2;\n",
              "      height: 32px;\n",
              "      padding: 0 0 0 0;\n",
              "      width: 32px;\n",
              "    }\n",
              "\n",
              "    .colab-df-convert:hover {\n",
              "      background-color: #E2EBFA;\n",
              "      box-shadow: 0px 1px 2px rgba(60, 64, 67, 0.3), 0px 1px 3px 1px rgba(60, 64, 67, 0.15);\n",
              "      fill: #174EA6;\n",
              "    }\n",
              "\n",
              "    [theme=dark] .colab-df-convert {\n",
              "      background-color: #3B4455;\n",
              "      fill: #D2E3FC;\n",
              "    }\n",
              "\n",
              "    [theme=dark] .colab-df-convert:hover {\n",
              "      background-color: #434B5C;\n",
              "      box-shadow: 0px 1px 3px 1px rgba(0, 0, 0, 0.15);\n",
              "      filter: drop-shadow(0px 1px 2px rgba(0, 0, 0, 0.3));\n",
              "      fill: #FFFFFF;\n",
              "    }\n",
              "  </style>\n",
              "\n",
              "      <script>\n",
              "        const buttonEl =\n",
              "          document.querySelector('#df-123af82f-d080-4b43-ab62-44a6ea3e3c44 button.colab-df-convert');\n",
              "        buttonEl.style.display =\n",
              "          google.colab.kernel.accessAllowed ? 'block' : 'none';\n",
              "\n",
              "        async function convertToInteractive(key) {\n",
              "          const element = document.querySelector('#df-123af82f-d080-4b43-ab62-44a6ea3e3c44');\n",
              "          const dataTable =\n",
              "            await google.colab.kernel.invokeFunction('convertToInteractive',\n",
              "                                                     [key], {});\n",
              "          if (!dataTable) return;\n",
              "\n",
              "          const docLinkHtml = 'Like what you see? Visit the ' +\n",
              "            '<a target=\"_blank\" href=https://colab.research.google.com/notebooks/data_table.ipynb>data table notebook</a>'\n",
              "            + ' to learn more about interactive tables.';\n",
              "          element.innerHTML = '';\n",
              "          dataTable['output_type'] = 'display_data';\n",
              "          await google.colab.output.renderOutput(dataTable, element);\n",
              "          const docLink = document.createElement('div');\n",
              "          docLink.innerHTML = docLinkHtml;\n",
              "          element.appendChild(docLink);\n",
              "        }\n",
              "      </script>\n",
              "    </div>\n",
              "  </div>\n",
              "  "
            ],
            "text/plain": [
              "                                          names  ... watches\n",
              "0                      Волшебник смотрит на шар  ...     194\n",
              "1                      Насколько же ты отчаялся  ...     126\n",
              "2                                Иван Золо 2004  ...    9.3k\n",
              "3                  Чел хорош, мегахорош, неплох  ...    1.7k\n",
              "4                          Нового года не будет  ...    1.9k\n",
              "..                                          ...  ...     ...\n",
              "169                                        Бонк  ...   12.7k\n",
              "170                             Повезло повезло  ...   61.7k\n",
              "171                Годзилла и Конг против Чимса  ...    9.4k\n",
              "172                  Отче наш иже еси на небеси  ...    5.4k\n",
              "173  We Live In a Society (Мы живем в обществе)  ...    3.3k\n",
              "\n",
              "[174 rows x 4 columns]"
            ]
          },
          "metadata": {},
          "execution_count": 9
        }
      ]
    },
    {
      "cell_type": "code",
      "source": [
        ""
      ],
      "metadata": {
        "colab": {
          "base_uri": "https://localhost:8080/"
        },
        "id": "UbMo2caPjr9N",
        "outputId": "d0d84381-4d22-4419-f633-669c6610147a"
      },
      "execution_count": null,
      "outputs": [
        {
          "output_type": "execute_result",
          "data": {
            "text/plain": [
              "174"
            ]
          },
          "metadata": {},
          "execution_count": 21
        }
      ]
    },
    {
      "cell_type": "code",
      "source": [
        "from datetime import datetime\n",
        "\n",
        "def to_number(num):\n",
        "  if num[-1] == 'k':\n",
        "    num = float(num.split(\"k\")[0]) * 1000\n",
        "  else:\n",
        "    num = float(num)\n",
        "  return int(num)\n",
        "\n",
        "def to_date(line):\n",
        "  date_time = line.split(\"T\")\n",
        "  date = date_time[0]\n",
        "  time = date_time[1].split(\"+\")[0]\n",
        "\n",
        "  day = datetime.strptime(date + \" \" + time, \"%Y-%m-%d %H:%M:%S\")\n",
        "  return day\n",
        "\n",
        "df_watches = []\n",
        "df_names = []\n",
        "df_categories = []\n",
        "df_dates = []\n",
        "\n",
        "for i in range(df[\"watches\"].size):\n",
        "  df_watches.append(to_number(df[\"watches\"][i]))\n",
        "  df_dates.append(to_date(df[\"dates\"][i]))\n",
        "  df_names.append(df[\"names\"][i])\n",
        "  df_categories.append(df[\"categories\"][i])\n",
        "\n",
        "print(df_watches)\n",
        "print(df_names)\n",
        "print(df_categories)\n",
        "print(df_dates)"
      ],
      "metadata": {
        "colab": {
          "base_uri": "https://localhost:8080/"
        },
        "id": "v9HnxsrCjZ0B",
        "outputId": "52381b54-d4ee-404e-ac5d-a99975081613"
      },
      "execution_count": null,
      "outputs": [
        {
          "output_type": "stream",
          "name": "stdout",
          "text": [
            "[194, 126, 9300, 1700, 1900, 20200, 8900, 4300, 79200, 162500, 1700, 11500, 18000, 10300, 6400, 5000, 2300, 17900, 5500, 15100, 14500, 4700, 22000, 3300, 4500, 2400, 9700, 3800, 3400, 3600, 1900, 3700, 8700, 4800, 30400, 2800, 5400, 7400, 3200, 1900, 9200, 20200, 9100, 3400, 1600, 18900, 2300, 4100, 1500, 23900, 11800, 3100, 2700, 13000, 2700, 1200, 5500, 39200, 1700, 1900, 3100, 226900, 4100, 11400, 30300, 9100, 8700, 2400, 17000, 7300, 1700, 4500, 4700, 1000, 35200, 16600, 2000, 18500, 4500, 11200, 3800, 6600, 45800, 2600, 10600, 7900, 50800, 6800, 25000, 69900, 1500, 2800, 17600, 1500, 5300, 5400, 7600, 2700, 43500, 1700, 1200, 12900, 1700, 4300, 3000, 3000, 19600, 5500, 13300, 20800, 2400, 3200, 4500, 2400, 987, 95500, 1200, 3700, 13200, 89600, 2100, 11500, 4600, 787, 18400, 3100, 21400, 4200, 2200, 66800, 24000, 26400, 3300, 8100, 16700, 1200, 4800, 4800, 79300, 3100, 87100, 167200, 120800, 28100, 1000, 57600, 3400, 1800, 4600, 1200, 2600, 6900, 3600, 27500, 19900, 12100, 16000, 23100, 1800, 1300, 7200, 50900, 27400, 4100, 12100, 53800, 45100, 3800, 17800, 12700, 61700, 9400, 5400, 3300]\n",
            "['Волшебник смотрит на шар', 'Насколько же ты отчаялся', 'Иван Золо 2004', 'Чел хорош, мегахорош, неплох', 'Нового года не будет', 'Елена алё', 'Время начинать план скам', 'Грустный и веселый пассажиры автобуса', 'Плыли мы по морю ветер мачту рвал', 'Москва метро Люблино работаем', 'Я из будущего наблюдаю', 'Парень и девушка переписываются в кровати', 'Мемы про Бумыча', 'Окей летс гоу', 'Я все это хаваю, у меня нет выбора', 'Что в коробке?', 'Базз Лайтер смотрит на костюм', 'Мы не одинаковые', 'Жиган и Джиган', 'Эй девчонка в 16 ряду', 'Жестко надристал', 'Оксимирон – Позови меня с собой', 'Песня про библиотеку', 'Такси вызвал, могу пока…', 'Злой X типа такой', 'Ты далеко? А может в тюрьму?', 'Понасенков крутится', 'Кин, киннить', 'Красный флаг', 'Откуда ты это сказал', 'Чакарон макарон', 'Убить Боба', 'Светлана, я не слышу хруста безе', 'Старый Мэрилин Мэнсон', 'Песня Индийский чай, грузинский чай', 'Высокомерные Вольтури', 'Рыжий становится качком', 'Человечек показывает большой палец', 'Саня слышишь прости я не хотел', 'Крош кричит', 'Доктор Ливси', 'Игра в кальмара', 'Трах Трахыч и Милфунья', 'Пичупидо', '21st Century Humor', 'Кот мяукает и кивает головой', 'Ты одна в комнате с тремя мужчинами', 'Эдуард Припусков', 'Он делает то же, что и я', 'Это шд братик', 'Фнаф', 'Первое свидание', 'Вонг и портал', 'Всем привет меня зовут Саша, я диктор канала Мастерская Настроения', 'Пепе уронил еду', 'Apu Apustaja', 'Удаляй при мне', 'Абобус', 'Мэрил Стрип смотрит на ноги', 'Мужик с батоном и собакой', 'Ты был прав, я всегда буду злодеем', 'Желтая египетская кошка Ankha', 'Кукож', 'Томас Шелби и бебра', 'Вопреки законам притяженья', 'Футболка Пивозавр', 'Чупапи муняня не будет', 'Привет Питер', 'Заскамил мамонта', 'Веселый и грустный Мистер Исключительный', 'Японская школьница уронила обед', 'Я в шкафу прячусь', 'Бро тебе надо тренироваться', 'Ник Изобретатель флексит', 'Мурад в такси', 'Скелетор вернется позже', 'Иноагент (Иностранный агент)', 'Собака и кега', 'Я в моменте', 'Ласка из “Отряда самоубийц”', 'Понасенков танцует', 'Ты известна во всем мире из-за…', 'Шевцов удивляется на стриме (что такое Hot Tubs)', 'Екарный бабай надо что-то делать', 'Резня', 'Абчихба', 'Ой так нравится долбиться в задницу', '7 лет упорного труда / Год кривляний на камеру', 'Слушай а ловко ты это придумал', 'Вы продаете рыбов?', 'К черту твой знак зодиака', 'Думерша в стиле аниме', 'Никак не живем', 'Омни-мэн ловит кулак', 'А я думала сова', 'Кот Степан', 'Поридж', '7 простых фраз, которые поразят любого собеседника', 'На расслабоне, на чиле', 'Твои запросы в 3 часа ночи би лайк', 'Кьеллини тянет Саку', 'Билан блять', 'Миранда Косгроув за компьютером', 'Шрумджек', 'Гена Марвин', 'Супер Денчик', 'Доминик Торетто говорит о семье', 'Подольский инцидент', 'Саддам Хусейн в укрытии', 'Вот как-то так но никак иначе', 'Боргир и питса', 'Babe Please Have Sex With Me I’m So Horny', 'Вся область заросла, и Москва зарастает этой дрянью', 'Лупи лупер', 'Ежик Пыхчан', 'Даша Карейка', 'Ты думаешь, что ты лучше меня', 'Смотри, что им нужно, чтобы достичь частицы нашей силы', '27.07.21', 'Александр Мазепов', 'Ужас что за поколение', 'Снюсоед и тульский пряник', 'Бумажная свинка', 'Побег из Версаля', 'К лучшему, верно?', 'Хасбик', 'Улитка в баре', 'Тачки (мемы про мать)', 'Похититель ароматов', 'Сэм из Самсунга', 'Разрывная', 'Буква Ю вообще похую', 'Леди Димитреску с телефоном', 'Роберт Муха 303', 'Снаперс', 'Оливия Родриго', 'Fuckboy Face', 'Думай, Марк', 'Амогус', 'Cheugy', 'Sheesh', 'Азамат Айталиев', 'Поп-ит и Симпл Димпл', 'Khaby Lame', 'Memeland (Остров реддиторов)', 'Чупапи муняню', 'Удалить из друзей, заблокировать', 'Боже, пожалуйста, Норвегия', 'Обезьяна без ушей', 'Бильбо Бэггинс с кольцом', 'Вы друзья? Нет. Да', 'Кролик Ральф', 'Секции косяка', 'Ты Слава Мерлоу?', 'Веселый и грустный Дин Норрис', 'Я получу / Ты получишь', 'Сынуля Аболтус', 'Понасенков гуляет по парку', 'Барон Земо танцует', 'Флэш смотрит на Супермена', 'Ever Given', 'Партия гордится тобой', 'Average Fan vs. Average Enjoyer', 'Агата Харкнесс подмигивает', 'Обезьяны за столом', 'Тетя Кэсс с декольте', 'Ясос Биба', 'Логотип Firefox', 'Дед пей таблетки а то получишь по жопе', 'Бонк', 'Повезло повезло', 'Годзилла и Конг против Чимса', 'Отче наш иже еси на небеси', 'We Live In a Society (Мы живем в обществе)']\n",
            "['Пикча', 'Пикча', 'Персоны', 'Видео', 'Видео', 'Видео', 'Видео', 'Пикча', 'Видео', 'Видео', 'Видео', 'Комикс', 'Тренды', 'Видео', 'Видео', 'Пикча', 'Пикча', 'Пикча', 'Пикча', 'Видео', 'Пикча', 'Видео', 'Тренды', 'Комикс', 'Пикча', 'Видео', 'Видео', 'Сленг', 'Тренды', 'Пикча', 'Видео', 'Тренды', 'Видео', 'Пикча', 'Тренды', 'Пикча', 'Видео', 'Комикс', 'Видео', 'Видео', 'Пикча', 'Тренды', 'Видео', 'Видео', 'Видео', 'Видео', 'Пикча', 'Персоны', 'Пикча', 'Видео', 'Тренды', 'Пикча', 'Пикча', 'Видео', 'Пикча', 'Пикча', 'Видео', 'Сленг', 'Пикча', 'Пикча', 'Видео', 'Видео', 'Сленг', 'Пикча', 'Тренды', 'Тренды', 'Пикча', 'Пикча', 'Пикча', 'Пикча', 'Пикча', 'Пикча', 'Пикча', 'Видео', 'Видео', 'Пикча', 'Сленг', 'Видео', 'Сленг', 'Персоны', 'Видео', 'Пикча', 'Видео', 'Видео', 'Видео', 'Сленг', 'Тренды', 'Пикча', 'Видео', 'Тренды', 'Тренды', 'Пикча', 'Видео', 'Пикча', 'Видео', 'Видео', 'Сленг', 'Пикча', 'Видео', 'Видео', 'Пикча', 'Видео', 'Пикча', 'Фейсы', 'Персоны', 'Персоны', 'Пикча', 'Тренды', 'Пикча', 'Тренды', 'Видео', 'Пикча', 'Тренды', 'Тренды', 'Тренды', 'Персоны', 'Пикча', 'Пикча', 'Тренды', 'Тренды', 'Пикча', 'Тренды', 'Тренды', 'Видео', 'Пикча', 'Персоны', 'Тренды', 'Пикча', 'Персоны', 'Персоны', 'Видео', 'Видео', 'Пикча', 'Тренды', 'Тренды', 'Персоны', 'Тренды', 'Пикча', 'Сленг', 'Сленг', 'Сленг', 'Персоны', 'Тренды', 'Персоны', 'Тренды', 'Сленг', 'Пикча', 'Пикча', 'Пикча', 'Пикча', 'Пикча', 'Персоны', 'Пикча', 'Пикча', 'Пикча', 'Видео', 'Пикча', 'Видео', 'Видео', 'Пикча', 'Пикча', 'Тренды', 'Пикча', 'Пикча', 'Пикча', 'Пикча', 'Видео', 'Тренды', 'Сленг', 'Пикча', 'Видео', 'Пикча', 'Пикча', 'Тренды']\n",
            "[datetime.datetime(2021, 12, 16, 12, 30, 39), datetime.datetime(2021, 12, 15, 14, 51, 29), datetime.datetime(2021, 12, 14, 11, 16, 39), datetime.datetime(2021, 12, 12, 12, 36, 10), datetime.datetime(2021, 12, 10, 11, 41, 43), datetime.datetime(2021, 12, 2, 15, 33, 47), datetime.datetime(2021, 11, 30, 11, 4, 3), datetime.datetime(2021, 11, 26, 12, 52, 31), datetime.datetime(2021, 11, 26, 12, 7, 48), datetime.datetime(2021, 11, 25, 13, 10, 29), datetime.datetime(2021, 11, 23, 11, 57, 58), datetime.datetime(2021, 11, 16, 11, 48, 31), datetime.datetime(2021, 11, 13, 15, 18, 30), datetime.datetime(2021, 11, 13, 11, 21, 41), datetime.datetime(2021, 11, 12, 10, 19, 31), datetime.datetime(2021, 11, 7, 13, 34, 53), datetime.datetime(2021, 11, 7, 12, 11, 15), datetime.datetime(2021, 11, 7, 11, 38, 18), datetime.datetime(2021, 11, 2, 20, 30, 9), datetime.datetime(2021, 10, 28, 14, 38, 56), datetime.datetime(2021, 10, 28, 13, 55, 24), datetime.datetime(2021, 10, 23, 12, 50, 24), datetime.datetime(2021, 10, 22, 14, 6, 41), datetime.datetime(2021, 10, 22, 10, 11, 6), datetime.datetime(2021, 10, 19, 17, 18, 58), datetime.datetime(2021, 10, 17, 13, 19, 14), datetime.datetime(2021, 10, 15, 11, 7, 23), datetime.datetime(2021, 10, 15, 10, 20, 50), datetime.datetime(2021, 10, 14, 11, 39, 19), datetime.datetime(2021, 10, 13, 13, 51, 13), datetime.datetime(2021, 10, 12, 11, 1, 16), datetime.datetime(2021, 10, 12, 9, 57, 8), datetime.datetime(2021, 10, 8, 20, 22, 15), datetime.datetime(2021, 10, 8, 14, 22, 54), datetime.datetime(2021, 10, 8, 14, 10, 14), datetime.datetime(2021, 10, 8, 13, 10, 12), datetime.datetime(2021, 10, 7, 11, 48, 23), datetime.datetime(2021, 10, 3, 13, 48, 46), datetime.datetime(2021, 10, 2, 12, 59, 30), datetime.datetime(2021, 10, 1, 22, 45, 24), datetime.datetime(2021, 10, 1, 16, 56, 27), datetime.datetime(2021, 10, 1, 14, 43, 55), datetime.datetime(2021, 9, 27, 16, 45, 1), datetime.datetime(2021, 9, 27, 11, 41, 8), datetime.datetime(2021, 9, 26, 12, 46, 9), datetime.datetime(2021, 9, 24, 11, 18, 22), datetime.datetime(2021, 9, 23, 18, 50, 54), datetime.datetime(2021, 9, 22, 22, 26, 51), datetime.datetime(2021, 9, 22, 21, 43, 36), datetime.datetime(2021, 9, 21, 21, 8, 5), datetime.datetime(2021, 9, 21, 18, 22, 15), datetime.datetime(2021, 9, 21, 12, 43, 52), datetime.datetime(2021, 9, 18, 10, 49, 50), datetime.datetime(2021, 9, 16, 0, 1, 50), datetime.datetime(2021, 9, 15, 22, 55, 41), datetime.datetime(2021, 9, 15, 22, 31, 18), datetime.datetime(2021, 9, 15, 18, 54, 45), datetime.datetime(2021, 9, 14, 15, 6, 29), datetime.datetime(2021, 9, 14, 13, 30, 39), datetime.datetime(2021, 9, 14, 12, 54, 44), datetime.datetime(2021, 9, 12, 12, 46, 15), datetime.datetime(2021, 9, 12, 11, 20, 18), datetime.datetime(2021, 9, 10, 22, 8, 29), datetime.datetime(2021, 9, 10, 21, 20, 42), datetime.datetime(2021, 9, 10, 17, 13, 16), datetime.datetime(2021, 9, 9, 22, 43, 36), datetime.datetime(2021, 9, 9, 21, 55, 23), datetime.datetime(2021, 9, 9, 18, 20, 58), datetime.datetime(2021, 9, 9, 17, 21, 16), datetime.datetime(2021, 9, 9, 16, 6, 36), datetime.datetime(2021, 9, 9, 14, 13, 25), datetime.datetime(2021, 9, 6, 17, 3, 4), datetime.datetime(2021, 9, 6, 16, 56, 3), datetime.datetime(2021, 9, 6, 12, 5, 21), datetime.datetime(2021, 9, 5, 11, 17, 12), datetime.datetime(2021, 8, 28, 12, 33, 25), datetime.datetime(2021, 8, 26, 14, 10, 20), datetime.datetime(2021, 8, 23, 21, 47, 6), datetime.datetime(2021, 8, 16, 14, 4, 30), datetime.datetime(2021, 8, 13, 12, 48, 40), datetime.datetime(2021, 8, 12, 12, 21, 57), datetime.datetime(2021, 8, 10, 13, 52, 57), datetime.datetime(2021, 8, 9, 14, 37, 33), datetime.datetime(2021, 8, 9, 13, 52, 4), datetime.datetime(2021, 8, 9, 12, 50, 20), datetime.datetime(2021, 8, 3, 12, 15, 10), datetime.datetime(2021, 8, 2, 23, 39, 45), datetime.datetime(2021, 8, 2, 12, 49, 59), datetime.datetime(2021, 7, 31, 11, 23, 39), datetime.datetime(2021, 7, 29, 13, 24, 22), datetime.datetime(2021, 7, 28, 12, 46, 47), datetime.datetime(2021, 7, 27, 12, 9, 5), datetime.datetime(2021, 7, 25, 12, 15, 50), datetime.datetime(2021, 7, 25, 11, 14, 40), datetime.datetime(2021, 7, 21, 13, 59, 54), datetime.datetime(2021, 7, 21, 13, 46, 1), datetime.datetime(2021, 7, 18, 15, 33, 7), datetime.datetime(2021, 7, 16, 16, 2, 35), datetime.datetime(2021, 7, 16, 15, 28, 3), datetime.datetime(2021, 7, 16, 14, 35, 57), datetime.datetime(2021, 7, 16, 13, 47, 35), datetime.datetime(2021, 7, 14, 15, 59, 8), datetime.datetime(2021, 7, 14, 10, 55, 59), datetime.datetime(2021, 7, 8, 12, 3, 46), datetime.datetime(2021, 7, 6, 21, 21, 55), datetime.datetime(2021, 7, 6, 20, 59, 34), datetime.datetime(2021, 7, 6, 12, 29, 1), datetime.datetime(2021, 7, 5, 11, 0, 37), datetime.datetime(2021, 7, 4, 13, 23, 14), datetime.datetime(2021, 7, 4, 12, 42, 37), datetime.datetime(2021, 6, 30, 9, 9, 16), datetime.datetime(2021, 6, 29, 10, 13, 34), datetime.datetime(2021, 6, 29, 8, 48, 39), datetime.datetime(2021, 6, 18, 22, 34, 51), datetime.datetime(2021, 6, 18, 22, 9, 14), datetime.datetime(2021, 6, 18, 13, 52, 38), datetime.datetime(2021, 6, 18, 11, 44, 58), datetime.datetime(2021, 6, 18, 11, 1, 28), datetime.datetime(2021, 6, 13, 12, 17, 23), datetime.datetime(2021, 6, 12, 17, 23, 39), datetime.datetime(2021, 6, 12, 12, 34, 12), datetime.datetime(2021, 6, 11, 15, 19, 10), datetime.datetime(2021, 6, 10, 12, 52, 19), datetime.datetime(2021, 6, 9, 15, 12, 31), datetime.datetime(2021, 6, 8, 12, 34, 6), datetime.datetime(2021, 6, 7, 14, 47, 17), datetime.datetime(2021, 6, 7, 13, 21, 29), datetime.datetime(2021, 6, 7, 12, 44, 36), datetime.datetime(2021, 6, 6, 13, 33, 21), datetime.datetime(2021, 6, 2, 16, 47, 16), datetime.datetime(2021, 5, 28, 12, 9, 39), datetime.datetime(2021, 5, 28, 0, 31, 53), datetime.datetime(2021, 5, 27, 17, 13, 45), datetime.datetime(2021, 5, 26, 22, 21, 6), datetime.datetime(2021, 5, 25, 12, 14, 17), datetime.datetime(2021, 5, 24, 6, 55, 58), datetime.datetime(2021, 5, 21, 21, 56, 44), datetime.datetime(2021, 5, 16, 13, 19), datetime.datetime(2021, 5, 15, 13, 5, 48), datetime.datetime(2021, 5, 10, 12, 44, 37), datetime.datetime(2021, 5, 8, 23, 11, 57), datetime.datetime(2021, 5, 8, 13, 45, 46), datetime.datetime(2021, 5, 7, 13, 2, 33), datetime.datetime(2021, 5, 5, 14, 26, 10), datetime.datetime(2021, 5, 5, 13, 42, 12), datetime.datetime(2021, 5, 4, 16, 1, 8), datetime.datetime(2021, 4, 26, 16, 31, 17), datetime.datetime(2021, 4, 26, 15, 12, 34), datetime.datetime(2021, 4, 26, 14, 33, 30), datetime.datetime(2021, 4, 26, 14, 33, 2), datetime.datetime(2021, 4, 25, 23, 19, 3), datetime.datetime(2021, 4, 24, 13, 28, 5), datetime.datetime(2021, 4, 22, 13, 45, 24), datetime.datetime(2021, 4, 21, 15, 18, 40), datetime.datetime(2021, 4, 21, 13, 49, 47), datetime.datetime(2021, 4, 12, 21, 20, 25), datetime.datetime(2021, 4, 11, 11, 51, 38), datetime.datetime(2021, 4, 10, 12, 17, 55), datetime.datetime(2021, 4, 9, 15, 45, 40), datetime.datetime(2021, 4, 7, 12, 46, 58), datetime.datetime(2021, 3, 28, 14, 12, 58), datetime.datetime(2021, 3, 23, 13, 20, 44), datetime.datetime(2021, 3, 20, 14, 1, 46), datetime.datetime(2021, 3, 11, 14, 53, 21), datetime.datetime(2021, 3, 7, 14, 56, 59), datetime.datetime(2021, 3, 3, 12, 25, 54), datetime.datetime(2021, 2, 28, 11, 23, 28), datetime.datetime(2021, 2, 24, 18, 16, 35), datetime.datetime(2021, 2, 18, 15, 52, 45), datetime.datetime(2021, 2, 18, 11, 52, 52), datetime.datetime(2021, 2, 18, 0, 10, 17), datetime.datetime(2021, 2, 17, 23, 33, 40), datetime.datetime(2021, 2, 16, 11, 48, 50), datetime.datetime(2021, 2, 15, 12, 11, 44)]\n"
          ]
        }
      ]
    },
    {
      "cell_type": "markdown",
      "source": [
        "Проверим популярность по просмотрам в каждом жанре: \n",
        "ПИКЧА\n",
        "ВИДЕО\n",
        "СЛЕНГ\n",
        "КОМИКС\n",
        "ПЕРСОНЫ\n",
        "ФЕЙСЫ\n",
        "ТРЕНДЫ"
      ],
      "metadata": {
        "id": "10xuAPPLoNjg"
      }
    },
    {
      "cell_type": "code",
      "source": [
        "sum_pic = 0\n",
        "sum_video = 0\n",
        "sum_slang = 0\n",
        "sum_comics = 0\n",
        "sum_person = 0\n",
        "sum_face = 0\n",
        "sum_trand = 0\n",
        "\n",
        "for i in range(len(df_watches)):\n",
        "  if df_categories[i] == 'Пикча':\n",
        "    sum_pic += df_watches[i]\n",
        "  elif df_categories[i] == 'Видео':\n",
        "    sum_video += df_watches[i]\n",
        "  elif df_categories[i] == 'Сленг':\n",
        "    sum_slang += df_watches[i]\n",
        "  elif df_categories[i] == 'Комикс':\n",
        "    sum_comics += df_watches[i]\n",
        "  elif df_categories[i] == 'Персоны':\n",
        "    sum_person += df_watches[i]\n",
        "  elif df_categories[i] == 'Фейсы':\n",
        "    sum_face += df_watches[i]\n",
        "  elif df_categories[i] == 'Тренды':\n",
        "    sum_trand += df_watches[i]\n",
        "\n",
        "y = [sum_pic, sum_video, sum_slang, sum_comics, sum_person, sum_face, sum_trand]\n",
        "x = ['Пикча', 'Видео', 'Сленг', 'Комикс', 'Персоны', 'Фейсы', 'Тренды']"
      ],
      "metadata": {
        "id": "LsE8XyqkoRrN"
      },
      "execution_count": null,
      "outputs": []
    },
    {
      "cell_type": "code",
      "source": [
        "%matplotlib inline\n",
        "import numpy as np\n",
        "import matplotlib.pyplot as plt\n",
        "\n",
        "fig, ax = plt.subplots()\n",
        "ax.bar(x, y)\n",
        "\n",
        "ax.set_facecolor('seashell')\n",
        "fig.set_facecolor('floralwhite')\n",
        "fig.set_figwidth(12)    \n",
        "fig.set_figheight(6)   \n",
        "\n",
        "plt.show()"
      ],
      "metadata": {
        "colab": {
          "base_uri": "https://localhost:8080/",
          "height": 385
        },
        "id": "ASIfuOIPmLjT",
        "outputId": "78a79bc8-f82c-4c6b-9c81-812aaeb33af9"
      },
      "execution_count": null,
      "outputs": [
        {
          "output_type": "display_data",
          "data": {
            "image/png": "[encoded data removed]",
            "text/plain": [
              "<Figure size 864x432 with 1 Axes>"
            ]
          },
          "metadata": {}
        }
      ]
    },
    {
      "cell_type": "markdown",
      "source": [
        "Найдем самую популярную статью"
      ],
      "metadata": {
        "id": "EPokFCrzqYcK"
      }
    },
    {
      "cell_type": "code",
      "source": [
        "mx = max(df_watches)\n",
        "m = [i for i,j in enumerate(df_watches) if j==mx]\n",
        "print(\"Самая популярная статья: \" + str(df_names[m[0]]))"
      ],
      "metadata": {
        "colab": {
          "base_uri": "https://localhost:8080/"
        },
        "id": "z0DoQAbxsgmd",
        "outputId": "af42f0ad-6516-49a0-c5db-e57716c6635a"
      },
      "execution_count": null,
      "outputs": [
        {
          "output_type": "stream",
          "name": "stdout",
          "text": [
            "Самая популярная статья: Желтая египетская кошка Ankha\n"
          ]
        }
      ]
    },
    {
      "cell_type": "markdown",
      "source": [
        "Посмотрим распределение количества публикации статей по промежуткам времени: [0-3), [3-6).."
      ],
      "metadata": {
        "id": "8uDKmefFthEy"
      }
    },
    {
      "cell_type": "code",
      "source": [
        "distances = [0, 0, 0, 0, 0, 0, 0, 0]\n",
        "times = ['0-3', '3-6', '6-9', '9-12', '12-15', '15-18', '18-21', '21+',]\n",
        "\n",
        "for i in range(len(df_names)):\n",
        "  if df_dates[i].hour >= 0 and df_dates[i].hour < 3:\n",
        "    distances[0] += 1\n",
        "  elif df_dates[i].hour >= 3 and df_dates[i].hour < 6:\n",
        "    distances[1] += 1\n",
        "  elif df_dates[i].hour >= 6 and df_dates[i].hour < 9:\n",
        "    distances[2] += 1\n",
        "  elif df_dates[i].hour >= 9 and df_dates[i].hour <12:\n",
        "    distances[3] += 1\n",
        "  elif df_dates[i].hour >= 12 and df_dates[i].hour < 15:\n",
        "    distances[4] += 1\n",
        "  elif df_dates[i].hour >= 15 and df_dates[i].hour < 18:\n",
        "    distances[5] += 1\n",
        "  elif df_dates[i].hour >= 18 and df_dates[i].hour < 21:\n",
        "    distances[6] += 1\n",
        "  elif df_dates[i].hour >= 21:\n",
        "    distances[7] += 1\n",
        "\n",
        "fig, ax = plt.subplots()\n",
        "ax.bar(times, distances)\n",
        "\n",
        "ax.set_facecolor('seashell')\n",
        "fig.set_facecolor('floralwhite')\n",
        "fig.set_figwidth(12)    \n",
        "fig.set_figheight(6)   \n",
        "\n",
        "plt.show()"
      ],
      "metadata": {
        "colab": {
          "base_uri": "https://localhost:8080/",
          "height": 374
        },
        "id": "vIO9ayYQto0z",
        "outputId": "45d7ac07-5b2c-4b3a-bd56-2030fa7716ee"
      },
      "execution_count": null,
      "outputs": [
        {
          "output_type": "display_data",
          "data": {
            "image/png": "[encoded data removed]",
            "text/plain": [
              "<Figure size 864x432 with 1 Axes>"
            ]
          },
          "metadata": {}
        }
      ]
    },
    {
      "cell_type": "markdown",
      "source": [
        " То есть большинство публикаций или обновлений статей проходило примерно в 12-15 часов дня"
      ],
      "metadata": {
        "id": "I91pS1E1vo7G"
      }
    },
    {
      "cell_type": "code",
      "source": [
        "import time\n",
        "start_time = time.time()\n",
        "a = 0\n",
        "a += 1\n",
        "print(\"--- %ms seconds ---\" % (time.time() - start_time))"
      ],
      "metadata": {
        "colab": {
          "base_uri": "https://localhost:8080/",
          "height": 200
        },
        "id": "u_AvBFB0k8Hn",
        "outputId": "dd78fac5-dc62-4131-f6e6-63fc633f77a7"
      },
      "execution_count": null,
      "outputs": [
        {
          "output_type": "error",
          "ename": "ValueError",
          "evalue": "ignored",
          "traceback": [
            "\u001b[0;31m---------------------------------------------------------------------------\u001b[0m",
            "\u001b[0;31mValueError\u001b[0m                                Traceback (most recent call last)",
            "\u001b[0;32m<ipython-input-5-2293d8b1cd95>\u001b[0m in \u001b[0;36m<module>\u001b[0;34m()\u001b[0m\n\u001b[1;32m      3\u001b[0m \u001b[0ma\u001b[0m \u001b[0;34m=\u001b[0m \u001b[0;36m0\u001b[0m\u001b[0;34m\u001b[0m\u001b[0;34m\u001b[0m\u001b[0m\n\u001b[1;32m      4\u001b[0m \u001b[0ma\u001b[0m \u001b[0;34m+=\u001b[0m \u001b[0;36m1\u001b[0m\u001b[0;34m\u001b[0m\u001b[0;34m\u001b[0m\u001b[0m\n\u001b[0;32m----> 5\u001b[0;31m \u001b[0mprint\u001b[0m\u001b[0;34m(\u001b[0m\u001b[0;34m\"--- %ms seconds ---\"\u001b[0m \u001b[0;34m%\u001b[0m \u001b[0;34m(\u001b[0m\u001b[0mtime\u001b[0m\u001b[0;34m.\u001b[0m\u001b[0mtime\u001b[0m\u001b[0;34m(\u001b[0m\u001b[0;34m)\u001b[0m \u001b[0;34m-\u001b[0m \u001b[0mstart_time\u001b[0m\u001b[0;34m)\u001b[0m\u001b[0;34m)\u001b[0m\u001b[0;34m\u001b[0m\u001b[0;34m\u001b[0m\u001b[0m\n\u001b[0m",
            "\u001b[0;31mValueError\u001b[0m: unsupported format character 'm' (0x6d) at index 5"
          ]
        }
      ]
    },
    {
      "cell_type": "code",
      "source": [
        ""
      ],
      "metadata": {
        "id": "L4Q6D2sak8kC"
      },
      "execution_count": null,
      "outputs": []
    }
  ]
}